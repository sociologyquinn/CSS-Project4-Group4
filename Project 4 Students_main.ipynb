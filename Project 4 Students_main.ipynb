{
 "cells": [
  {
   "cell_type": "markdown",
   "metadata": {},
   "source": [
    "# [Computational Social Science] Project 4: Unsupervised Learning"
   ]
  },
  {
   "cell_type": "markdown",
   "metadata": {},
   "source": [
    "## Data Description and Preprocessing\n",
    "\n",
    "For this project, you will explore data from the [National Health and Nutrition Examination Survey](https://www.kaggle.com/cdc/national-health-and-nutrition-examination-survey?select=questionnaire.csv). NHANES is a unique study that combines survey methodology with in-person medical examinations to create a dataset with demographic information, health indicators, and health outcomes."
   ]
  },
  {
   "cell_type": "markdown",
   "metadata": {},
   "source": [
    "We start by importing the data and doing some preliminary preprocessing for you. We import some libraries that will be helpful as well. 'SEQN' is the ID number for each respondent, and 'HSD010' will be our target outcome. [HSD010](https://wwwn.cdc.gov/Nchs/Nhanes/2013-2014/HSQ_H.htm#HSD010) asks for the respondent's self reported health condition, which can range from \"excellent\" to \"poor.\""
   ]
  },
  {
   "cell_type": "code",
   "execution_count": 2,
   "metadata": {},
   "outputs": [],
   "source": [
    "# Import libraries\n",
    "import pandas as pd\n",
    "import numpy as np\n",
    "from sklearn.cluster import KMeans\n",
    "from sklearn.decomposition import PCA\n",
    "from sklearn.preprocessing import StandardScaler\n",
    "from keras.models import Sequential\n",
    "from keras.layers import Dense, Dropout\n",
    "import matplotlib.pyplot as plt\n",
    "%matplotlib inline\n",
    "import seaborn as sns\n",
    "from sklearn.model_selection import train_test_split\n",
    "sns.set_style(\"darkgrid\")\n",
    "from sklearn.model_selection import train_test_split"
   ]
  },
  {
   "cell_type": "code",
   "execution_count": 3,
   "metadata": {},
   "outputs": [
    {
     "data": {
      "text/html": [
       "<div>\n",
       "<style scoped>\n",
       "    .dataframe tbody tr th:only-of-type {\n",
       "        vertical-align: middle;\n",
       "    }\n",
       "\n",
       "    .dataframe tbody tr th {\n",
       "        vertical-align: top;\n",
       "    }\n",
       "\n",
       "    .dataframe thead th {\n",
       "        text-align: right;\n",
       "    }\n",
       "</style>\n",
       "<table border=\"1\" class=\"dataframe\">\n",
       "  <thead>\n",
       "    <tr style=\"text-align: right;\">\n",
       "      <th></th>\n",
       "      <th>DR1DRSTZ</th>\n",
       "      <th>DR1EXMER</th>\n",
       "      <th>DRABF</th>\n",
       "      <th>DRDINT</th>\n",
       "      <th>DR1DBIH</th>\n",
       "      <th>DR1DAY</th>\n",
       "      <th>DR1LANG</th>\n",
       "      <th>DR1MNRSP</th>\n",
       "      <th>DR1HELPD</th>\n",
       "      <th>DBQ095Z</th>\n",
       "      <th>...</th>\n",
       "      <th>OHQ770</th>\n",
       "      <th>OHQ845</th>\n",
       "      <th>PAAQUEX</th>\n",
       "      <th>SMQ860</th>\n",
       "      <th>SMQ870</th>\n",
       "      <th>SMQ872</th>\n",
       "      <th>SMQ874</th>\n",
       "      <th>SMQ878</th>\n",
       "      <th>SMAQUEX.x</th>\n",
       "      <th>HSD010</th>\n",
       "    </tr>\n",
       "    <tr>\n",
       "      <th>SEQN</th>\n",
       "      <th></th>\n",
       "      <th></th>\n",
       "      <th></th>\n",
       "      <th></th>\n",
       "      <th></th>\n",
       "      <th></th>\n",
       "      <th></th>\n",
       "      <th></th>\n",
       "      <th></th>\n",
       "      <th></th>\n",
       "      <th></th>\n",
       "      <th></th>\n",
       "      <th></th>\n",
       "      <th></th>\n",
       "      <th></th>\n",
       "      <th></th>\n",
       "      <th></th>\n",
       "      <th></th>\n",
       "      <th></th>\n",
       "      <th></th>\n",
       "      <th></th>\n",
       "    </tr>\n",
       "  </thead>\n",
       "  <tbody>\n",
       "    <tr>\n",
       "      <td>73568</td>\n",
       "      <td>0.0</td>\n",
       "      <td>2.034312</td>\n",
       "      <td>0.0</td>\n",
       "      <td>0.324834</td>\n",
       "      <td>-0.393906</td>\n",
       "      <td>1.085853</td>\n",
       "      <td>-0.194202</td>\n",
       "      <td>-0.057306</td>\n",
       "      <td>0.128246</td>\n",
       "      <td>-0.189513</td>\n",
       "      <td>...</td>\n",
       "      <td>0.383802</td>\n",
       "      <td>-0.646584</td>\n",
       "      <td>-0.484200</td>\n",
       "      <td>1.125008</td>\n",
       "      <td>0.0</td>\n",
       "      <td>-2.081666</td>\n",
       "      <td>1.087115</td>\n",
       "      <td>1.463404</td>\n",
       "      <td>0.612440</td>\n",
       "      <td>1</td>\n",
       "    </tr>\n",
       "    <tr>\n",
       "      <td>73576</td>\n",
       "      <td>0.0</td>\n",
       "      <td>0.261930</td>\n",
       "      <td>0.0</td>\n",
       "      <td>-3.078499</td>\n",
       "      <td>0.568251</td>\n",
       "      <td>0.634362</td>\n",
       "      <td>-0.194202</td>\n",
       "      <td>-0.057306</td>\n",
       "      <td>0.128246</td>\n",
       "      <td>0.080373</td>\n",
       "      <td>...</td>\n",
       "      <td>0.383802</td>\n",
       "      <td>-1.539259</td>\n",
       "      <td>-0.484200</td>\n",
       "      <td>1.125008</td>\n",
       "      <td>0.0</td>\n",
       "      <td>-2.081666</td>\n",
       "      <td>1.087115</td>\n",
       "      <td>-0.683338</td>\n",
       "      <td>-1.632812</td>\n",
       "      <td>1</td>\n",
       "    </tr>\n",
       "    <tr>\n",
       "      <td>73579</td>\n",
       "      <td>0.0</td>\n",
       "      <td>0.728346</td>\n",
       "      <td>0.0</td>\n",
       "      <td>0.324834</td>\n",
       "      <td>1.530407</td>\n",
       "      <td>-1.623092</td>\n",
       "      <td>-0.194202</td>\n",
       "      <td>-0.057306</td>\n",
       "      <td>0.128246</td>\n",
       "      <td>-0.189513</td>\n",
       "      <td>...</td>\n",
       "      <td>0.383802</td>\n",
       "      <td>-1.539259</td>\n",
       "      <td>2.065262</td>\n",
       "      <td>-0.888883</td>\n",
       "      <td>0.0</td>\n",
       "      <td>0.480384</td>\n",
       "      <td>-0.919866</td>\n",
       "      <td>-0.683338</td>\n",
       "      <td>-1.632812</td>\n",
       "      <td>2</td>\n",
       "    </tr>\n",
       "    <tr>\n",
       "      <td>73581</td>\n",
       "      <td>0.0</td>\n",
       "      <td>-0.857470</td>\n",
       "      <td>0.0</td>\n",
       "      <td>0.324834</td>\n",
       "      <td>0.480782</td>\n",
       "      <td>1.085853</td>\n",
       "      <td>-0.194202</td>\n",
       "      <td>-0.057306</td>\n",
       "      <td>0.128246</td>\n",
       "      <td>0.080373</td>\n",
       "      <td>...</td>\n",
       "      <td>0.383802</td>\n",
       "      <td>-0.646584</td>\n",
       "      <td>-0.484200</td>\n",
       "      <td>1.125008</td>\n",
       "      <td>0.0</td>\n",
       "      <td>0.480384</td>\n",
       "      <td>-0.919866</td>\n",
       "      <td>-0.683338</td>\n",
       "      <td>0.612440</td>\n",
       "      <td>2</td>\n",
       "    </tr>\n",
       "    <tr>\n",
       "      <td>73584</td>\n",
       "      <td>0.0</td>\n",
       "      <td>0.495138</td>\n",
       "      <td>0.0</td>\n",
       "      <td>0.324834</td>\n",
       "      <td>0.305844</td>\n",
       "      <td>-1.623092</td>\n",
       "      <td>-0.194202</td>\n",
       "      <td>-0.057306</td>\n",
       "      <td>0.128246</td>\n",
       "      <td>0.080373</td>\n",
       "      <td>...</td>\n",
       "      <td>-2.605509</td>\n",
       "      <td>0.246091</td>\n",
       "      <td>2.065262</td>\n",
       "      <td>1.125008</td>\n",
       "      <td>0.0</td>\n",
       "      <td>0.480384</td>\n",
       "      <td>-0.919866</td>\n",
       "      <td>1.463404</td>\n",
       "      <td>-1.632812</td>\n",
       "      <td>3</td>\n",
       "    </tr>\n",
       "  </tbody>\n",
       "</table>\n",
       "<p>5 rows × 242 columns</p>\n",
       "</div>"
      ],
      "text/plain": [
       "       DR1DRSTZ  DR1EXMER  DRABF    DRDINT   DR1DBIH    DR1DAY   DR1LANG  \\\n",
       "SEQN                                                                       \n",
       "73568       0.0  2.034312    0.0  0.324834 -0.393906  1.085853 -0.194202   \n",
       "73576       0.0  0.261930    0.0 -3.078499  0.568251  0.634362 -0.194202   \n",
       "73579       0.0  0.728346    0.0  0.324834  1.530407 -1.623092 -0.194202   \n",
       "73581       0.0 -0.857470    0.0  0.324834  0.480782  1.085853 -0.194202   \n",
       "73584       0.0  0.495138    0.0  0.324834  0.305844 -1.623092 -0.194202   \n",
       "\n",
       "       DR1MNRSP  DR1HELPD   DBQ095Z  ...    OHQ770    OHQ845   PAAQUEX  \\\n",
       "SEQN                                 ...                                 \n",
       "73568 -0.057306  0.128246 -0.189513  ...  0.383802 -0.646584 -0.484200   \n",
       "73576 -0.057306  0.128246  0.080373  ...  0.383802 -1.539259 -0.484200   \n",
       "73579 -0.057306  0.128246 -0.189513  ...  0.383802 -1.539259  2.065262   \n",
       "73581 -0.057306  0.128246  0.080373  ...  0.383802 -0.646584 -0.484200   \n",
       "73584 -0.057306  0.128246  0.080373  ... -2.605509  0.246091  2.065262   \n",
       "\n",
       "         SMQ860  SMQ870    SMQ872    SMQ874    SMQ878  SMAQUEX.x  HSD010  \n",
       "SEQN                                                                      \n",
       "73568  1.125008     0.0 -2.081666  1.087115  1.463404   0.612440       1  \n",
       "73576  1.125008     0.0 -2.081666  1.087115 -0.683338  -1.632812       1  \n",
       "73579 -0.888883     0.0  0.480384 -0.919866 -0.683338  -1.632812       2  \n",
       "73581  1.125008     0.0  0.480384 -0.919866 -0.683338   0.612440       2  \n",
       "73584  1.125008     0.0  0.480384 -0.919866  1.463404  -1.632812       3  \n",
       "\n",
       "[5 rows x 242 columns]"
      ]
     },
     "execution_count": 3,
     "metadata": {},
     "output_type": "execute_result"
    }
   ],
   "source": [
    "# Load nhanes data\n",
    "nhanes = pd.read_csv('nhanes.csv')\n",
    "# Get the ID numbers for each observation (seqn)\n",
    "seqn = nhanes['SEQN']\n",
    "# Get the target, \"self-reported health condition,\" HSD010\n",
    "hsd010 = nhanes['HSD010']\n",
    "# Drop SEQN from the dataframe and then apply the standard scaler\n",
    "nhanes = nhanes.drop(['SEQN', 'HSD010'], axis = 1)\n",
    "nhanes_scaled = pd.DataFrame(StandardScaler().fit_transform(nhanes),\n",
    "                             columns = nhanes.columns)\n",
    "# Add the ID and target back in\n",
    "nhanes_scaled['SEQN'] = seqn\n",
    "nhanes_scaled['HSD010'] = hsd010\n",
    "nhanes_scaled = nhanes_scaled.set_index('SEQN')\n",
    "nhanes_scaled.head()"
   ]
  },
  {
   "cell_type": "markdown",
   "metadata": {},
   "source": [
    "## Plots"
   ]
  },
  {
   "cell_type": "markdown",
   "metadata": {},
   "source": [
    "Let's take a look at the data. Below we visualize boxplots of family income to federal poverty line ratio ('INDFMPIR') and self-reported health condition. Notice how there are some clear patterns (the lower the ratio, the lower reported health condition), but it's not a perfect separation. We have 240+ features in our dataset, and we likely have several features in our dataset that highly correlate with our family income-poverty line ratio measure - PCA will help us simplify these."
   ]
  },
  {
   "cell_type": "code",
   "execution_count": 4,
   "metadata": {},
   "outputs": [
    {
     "data": {
      "image/png": "[encoded data removed]",
      "text/plain": [
       "<Figure size 432x288 with 1 Axes>"
      ]
     },
     "metadata": {
      "needs_background": "light"
     },
     "output_type": "display_data"
    }
   ],
   "source": [
    "# Create a binary version of hsd010 where 1-3 are \"good\" and 4-5 are \"poor\"\n",
    "nhanes_scaled['HSD010_binary'] = hsd010_binary = nhanes_scaled['HSD010'].replace(\n",
    "    [1, 2, 3, 4, 5], ['good', 'good', 'good', 'poor', 'poor']) \n",
    "# Recode the original hsd010 with the string labels\n",
    "nhanes_scaled['HSD010'] = nhanes_scaled['HSD010'].replace(\n",
    "    [1, 2, 3, 4, 5], ['excellent', 'very good', 'good', 'fair', 'poor'])\n",
    "# Boxplot of hsd010\n",
    "ax = sns.boxplot(x = 'HSD010', y = 'INDFMPIR', data = nhanes_scaled)\n",
    "ax.set(xlabel = \"Self Reported Health Condition\",\n",
    "      ylabel = \"Family Income to Poverty Line Ratio\")\n",
    "ax.set_title(\"Boxplot of Family Income to Poverty Line Ratio by Self-Reported Health Status\")\n",
    "plt.show()"
   ]
  },
  {
   "cell_type": "code",
   "execution_count": 5,
   "metadata": {},
   "outputs": [
    {
     "data": {
      "image/png": "[encoded data removed]",
      "text/plain": [
       "<Figure size 432x288 with 1 Axes>"
      ]
     },
     "metadata": {
      "needs_background": "light"
     },
     "output_type": "display_data"
    }
   ],
   "source": [
    "# Boxplot of hsd010_binary\n",
    "ax = sns.boxplot(x = 'HSD010_binary', y = 'INDFMPIR', data = nhanes_scaled)\n",
    "ax.set(xlabel = \"Self Reported Health Condition\",\n",
    "      ylabel = \"Family Income to Poverty Line Ratio\")\n",
    "ax.set_title(\"Boxplot of Family Income to Poverty Line Ratio by Binary Self-Reported Health Status\")\n",
    "plt.show()"
   ]
  },
  {
   "cell_type": "markdown",
   "metadata": {},
   "source": [
    "Family income also is not necessarily well correlated with measured health outcomes. See below where we look at the relationship between Body Mass Index (BMI) and the family income-poverty line ratio, and shade points by self-reported health condition. It's hard to find a clear pattern - this is where clustering may come in handy. "
   ]
  },
  {
   "cell_type": "code",
   "execution_count": 6,
   "metadata": {},
   "outputs": [
    {
     "data": {
      "image/png": "[encoded data removed]",
      "text/plain": [
       "<Figure size 432x288 with 1 Axes>"
      ]
     },
     "metadata": {
      "needs_background": "light"
     },
     "output_type": "display_data"
    }
   ],
   "source": [
    "ax = sns.scatterplot(x = \"INDFMPIR\", y = \"BMXBMI\", hue = \"HSD010\", palette = \"tab10\", data = nhanes_scaled)\n",
    "ax.set(xlabel = \"Income to Poverty Line Ratio\",\n",
    "      ylabel = \"Body Mass Index\")\n",
    "ax.set_title(\"BMI v. Income-Poverty Ratio\")\n",
    "plt.show()"
   ]
  },
  {
   "cell_type": "markdown",
   "metadata": {},
   "source": [
    "Before we move to working on unsupervised methods, we'll drop our target variables again:"
   ]
  },
  {
   "cell_type": "code",
   "execution_count": 7,
   "metadata": {},
   "outputs": [],
   "source": [
    "nhanes_scaled = nhanes_scaled.drop(['HSD010', 'HSD010_binary'], axis = 1)"
   ]
  },
  {
   "cell_type": "markdown",
   "metadata": {},
   "source": [
    "## Principal Component Analysis"
   ]
  },
  {
   "cell_type": "markdown",
   "metadata": {},
   "source": [
    "Conduct a Principal Component Analysis (PCA) of the nhanes data. The data has already been prepared for you, so you can work directly on nhanes_scaled. Be sure to do the following:\n",
    "\n",
    "- Choose the number of components and provide 1-2 sentences about your choice of the number of components.\n",
    "- Plot a barplot of the variation explains by each component.\n",
    "- Choose how many components you will use to fit a supervised learning model and provide 1-2 sentences to explain that choice.\n",
    "- Plot a 2D scatterplot of the first two components and provide 1-2 sentences analyzing the plot."
   ]
  },
  {
   "cell_type": "markdown",
   "metadata": {},
   "source": [
    "### Train PCA and Discuss Number of Components"
   ]
  },
  {
   "cell_type": "markdown",
   "metadata": {},
   "source": [
    "We chose 0.90 as a parameter to the PCA model, indicating that PCA will retain 90% of the variance and the minimum number of principal components needed to capture 90% variance will be used. In this case, 90% of the variance amounts to 120 principal components. Although there isn't a \"perfect\" formula to calculate the ideal variance principal components should explain, we chose 90% in alignment with the field which suggests 90-95% as one standard practice."
   ]
  },
  {
   "cell_type": "code",
   "execution_count": 8,
   "metadata": {},
   "outputs": [
    {
     "data": {
      "text/html": [
       "<div>\n",
       "<style scoped>\n",
       "    .dataframe tbody tr th:only-of-type {\n",
       "        vertical-align: middle;\n",
       "    }\n",
       "\n",
       "    .dataframe tbody tr th {\n",
       "        vertical-align: top;\n",
       "    }\n",
       "\n",
       "    .dataframe thead th {\n",
       "        text-align: right;\n",
       "    }\n",
       "</style>\n",
       "<table border=\"1\" class=\"dataframe\">\n",
       "  <thead>\n",
       "    <tr style=\"text-align: right;\">\n",
       "      <th></th>\n",
       "      <th>DR1DRSTZ</th>\n",
       "      <th>DR1EXMER</th>\n",
       "      <th>DRABF</th>\n",
       "      <th>DRDINT</th>\n",
       "      <th>DR1DBIH</th>\n",
       "      <th>DR1DAY</th>\n",
       "      <th>DR1LANG</th>\n",
       "      <th>DR1MNRSP</th>\n",
       "      <th>DR1HELPD</th>\n",
       "      <th>DBQ095Z</th>\n",
       "      <th>...</th>\n",
       "      <th>OHQ033</th>\n",
       "      <th>OHQ770</th>\n",
       "      <th>OHQ845</th>\n",
       "      <th>PAAQUEX</th>\n",
       "      <th>SMQ860</th>\n",
       "      <th>SMQ870</th>\n",
       "      <th>SMQ872</th>\n",
       "      <th>SMQ874</th>\n",
       "      <th>SMQ878</th>\n",
       "      <th>SMAQUEX.x</th>\n",
       "    </tr>\n",
       "    <tr>\n",
       "      <th>SEQN</th>\n",
       "      <th></th>\n",
       "      <th></th>\n",
       "      <th></th>\n",
       "      <th></th>\n",
       "      <th></th>\n",
       "      <th></th>\n",
       "      <th></th>\n",
       "      <th></th>\n",
       "      <th></th>\n",
       "      <th></th>\n",
       "      <th></th>\n",
       "      <th></th>\n",
       "      <th></th>\n",
       "      <th></th>\n",
       "      <th></th>\n",
       "      <th></th>\n",
       "      <th></th>\n",
       "      <th></th>\n",
       "      <th></th>\n",
       "      <th></th>\n",
       "      <th></th>\n",
       "    </tr>\n",
       "  </thead>\n",
       "  <tbody>\n",
       "    <tr>\n",
       "      <td>73568</td>\n",
       "      <td>0.0</td>\n",
       "      <td>2.034312</td>\n",
       "      <td>0.0</td>\n",
       "      <td>0.324834</td>\n",
       "      <td>-0.393906</td>\n",
       "      <td>1.085853</td>\n",
       "      <td>-0.194202</td>\n",
       "      <td>-0.057306</td>\n",
       "      <td>0.128246</td>\n",
       "      <td>-0.189513</td>\n",
       "      <td>...</td>\n",
       "      <td>-0.680203</td>\n",
       "      <td>0.383802</td>\n",
       "      <td>-0.646584</td>\n",
       "      <td>-0.484200</td>\n",
       "      <td>1.125008</td>\n",
       "      <td>0.0</td>\n",
       "      <td>-2.081666</td>\n",
       "      <td>1.087115</td>\n",
       "      <td>1.463404</td>\n",
       "      <td>0.612440</td>\n",
       "    </tr>\n",
       "    <tr>\n",
       "      <td>73576</td>\n",
       "      <td>0.0</td>\n",
       "      <td>0.261930</td>\n",
       "      <td>0.0</td>\n",
       "      <td>-3.078499</td>\n",
       "      <td>0.568251</td>\n",
       "      <td>0.634362</td>\n",
       "      <td>-0.194202</td>\n",
       "      <td>-0.057306</td>\n",
       "      <td>0.128246</td>\n",
       "      <td>0.080373</td>\n",
       "      <td>...</td>\n",
       "      <td>-0.680203</td>\n",
       "      <td>0.383802</td>\n",
       "      <td>-1.539259</td>\n",
       "      <td>-0.484200</td>\n",
       "      <td>1.125008</td>\n",
       "      <td>0.0</td>\n",
       "      <td>-2.081666</td>\n",
       "      <td>1.087115</td>\n",
       "      <td>-0.683338</td>\n",
       "      <td>-1.632812</td>\n",
       "    </tr>\n",
       "    <tr>\n",
       "      <td>73579</td>\n",
       "      <td>0.0</td>\n",
       "      <td>0.728346</td>\n",
       "      <td>0.0</td>\n",
       "      <td>0.324834</td>\n",
       "      <td>1.530407</td>\n",
       "      <td>-1.623092</td>\n",
       "      <td>-0.194202</td>\n",
       "      <td>-0.057306</td>\n",
       "      <td>0.128246</td>\n",
       "      <td>-0.189513</td>\n",
       "      <td>...</td>\n",
       "      <td>-0.680203</td>\n",
       "      <td>0.383802</td>\n",
       "      <td>-1.539259</td>\n",
       "      <td>2.065262</td>\n",
       "      <td>-0.888883</td>\n",
       "      <td>0.0</td>\n",
       "      <td>0.480384</td>\n",
       "      <td>-0.919866</td>\n",
       "      <td>-0.683338</td>\n",
       "      <td>-1.632812</td>\n",
       "    </tr>\n",
       "    <tr>\n",
       "      <td>73581</td>\n",
       "      <td>0.0</td>\n",
       "      <td>-0.857470</td>\n",
       "      <td>0.0</td>\n",
       "      <td>0.324834</td>\n",
       "      <td>0.480782</td>\n",
       "      <td>1.085853</td>\n",
       "      <td>-0.194202</td>\n",
       "      <td>-0.057306</td>\n",
       "      <td>0.128246</td>\n",
       "      <td>0.080373</td>\n",
       "      <td>...</td>\n",
       "      <td>-0.680203</td>\n",
       "      <td>0.383802</td>\n",
       "      <td>-0.646584</td>\n",
       "      <td>-0.484200</td>\n",
       "      <td>1.125008</td>\n",
       "      <td>0.0</td>\n",
       "      <td>0.480384</td>\n",
       "      <td>-0.919866</td>\n",
       "      <td>-0.683338</td>\n",
       "      <td>0.612440</td>\n",
       "    </tr>\n",
       "    <tr>\n",
       "      <td>73584</td>\n",
       "      <td>0.0</td>\n",
       "      <td>0.495138</td>\n",
       "      <td>0.0</td>\n",
       "      <td>0.324834</td>\n",
       "      <td>0.305844</td>\n",
       "      <td>-1.623092</td>\n",
       "      <td>-0.194202</td>\n",
       "      <td>-0.057306</td>\n",
       "      <td>0.128246</td>\n",
       "      <td>0.080373</td>\n",
       "      <td>...</td>\n",
       "      <td>-0.680203</td>\n",
       "      <td>-2.605509</td>\n",
       "      <td>0.246091</td>\n",
       "      <td>2.065262</td>\n",
       "      <td>1.125008</td>\n",
       "      <td>0.0</td>\n",
       "      <td>0.480384</td>\n",
       "      <td>-0.919866</td>\n",
       "      <td>1.463404</td>\n",
       "      <td>-1.632812</td>\n",
       "    </tr>\n",
       "  </tbody>\n",
       "</table>\n",
       "<p>5 rows × 241 columns</p>\n",
       "</div>"
      ],
      "text/plain": [
       "       DR1DRSTZ  DR1EXMER  DRABF    DRDINT   DR1DBIH    DR1DAY   DR1LANG  \\\n",
       "SEQN                                                                       \n",
       "73568       0.0  2.034312    0.0  0.324834 -0.393906  1.085853 -0.194202   \n",
       "73576       0.0  0.261930    0.0 -3.078499  0.568251  0.634362 -0.194202   \n",
       "73579       0.0  0.728346    0.0  0.324834  1.530407 -1.623092 -0.194202   \n",
       "73581       0.0 -0.857470    0.0  0.324834  0.480782  1.085853 -0.194202   \n",
       "73584       0.0  0.495138    0.0  0.324834  0.305844 -1.623092 -0.194202   \n",
       "\n",
       "       DR1MNRSP  DR1HELPD   DBQ095Z  ...    OHQ033    OHQ770    OHQ845  \\\n",
       "SEQN                                 ...                                 \n",
       "73568 -0.057306  0.128246 -0.189513  ... -0.680203  0.383802 -0.646584   \n",
       "73576 -0.057306  0.128246  0.080373  ... -0.680203  0.383802 -1.539259   \n",
       "73579 -0.057306  0.128246 -0.189513  ... -0.680203  0.383802 -1.539259   \n",
       "73581 -0.057306  0.128246  0.080373  ... -0.680203  0.383802 -0.646584   \n",
       "73584 -0.057306  0.128246  0.080373  ... -0.680203 -2.605509  0.246091   \n",
       "\n",
       "        PAAQUEX    SMQ860  SMQ870    SMQ872    SMQ874    SMQ878  SMAQUEX.x  \n",
       "SEQN                                                                        \n",
       "73568 -0.484200  1.125008     0.0 -2.081666  1.087115  1.463404   0.612440  \n",
       "73576 -0.484200  1.125008     0.0 -2.081666  1.087115 -0.683338  -1.632812  \n",
       "73579  2.065262 -0.888883     0.0  0.480384 -0.919866 -0.683338  -1.632812  \n",
       "73581 -0.484200  1.125008     0.0  0.480384 -0.919866 -0.683338   0.612440  \n",
       "73584  2.065262  1.125008     0.0  0.480384 -0.919866  1.463404  -1.632812  \n",
       "\n",
       "[5 rows x 241 columns]"
      ]
     },
     "execution_count": 8,
     "metadata": {},
     "output_type": "execute_result"
    }
   ],
   "source": [
    "# Check out first 5 rows\n",
    "nhanes_scaled.head()"
   ]
  },
  {
   "cell_type": "code",
   "execution_count": 9,
   "metadata": {},
   "outputs": [
    {
     "data": {
      "text/plain": [
       "120"
      ]
     },
     "execution_count": 9,
     "metadata": {},
     "output_type": "execute_result"
    }
   ],
   "source": [
    "from sklearn.decomposition import PCA\n",
    "pca = PCA(0.90)\n",
    "principalcomponents_nhanes = pca.fit_transform(nhanes_scaled)\n",
    "pca.n_components_"
   ]
  },
  {
   "cell_type": "code",
   "execution_count": 10,
   "metadata": {},
   "outputs": [],
   "source": [
    "#PCA on 120 components of NHANES dataset to have 90% of variance explained\n",
    "from sklearn.decomposition import PCA\n",
    "pca = PCA(n_components=120)\n",
    "principalcomponents_nhanes = pca.fit_transform(nhanes_scaled)"
   ]
  },
  {
   "cell_type": "code",
   "execution_count": 11,
   "metadata": {},
   "outputs": [
    {
     "name": "stdout",
     "output_type": "stream",
     "text": [
      "[0.10201961 0.07623011 0.04371192 0.02882172 0.02357132 0.0190163\n",
      " 0.01810852 0.01655592 0.01557116 0.01532197 0.01319964 0.01212789\n",
      " 0.01157937 0.01155981 0.01110006 0.01004583 0.00943223 0.00932322\n",
      " 0.00880415 0.0086902  0.00840106 0.0082603  0.00796172 0.00782773\n",
      " 0.00753776 0.00723651 0.00711072 0.00694047 0.00679363 0.00645715\n",
      " 0.0063964  0.00631739 0.00621784 0.00617767 0.00592796 0.00577447\n",
      " 0.00568518 0.00562999 0.0056166  0.00555543 0.00549322 0.00543039\n",
      " 0.00531549 0.00527964 0.00521747 0.00516056 0.00510901 0.00501947\n",
      " 0.00498465 0.00495407 0.0049108  0.00484232 0.0048211  0.00474991\n",
      " 0.00471976 0.00463769 0.00462329 0.00458683 0.00451141 0.00448754\n",
      " 0.00446999 0.00438668 0.00437532 0.00433324 0.00429073 0.00425696\n",
      " 0.00423472 0.0042031  0.00414637 0.0041181  0.00407644 0.00405787\n",
      " 0.00403509 0.00397759 0.00393351 0.00393027 0.00389857 0.00383502\n",
      " 0.00379378 0.0037717  0.00372996 0.00371246 0.00367686 0.00365636\n",
      " 0.00361079 0.00359273 0.00351354 0.00347613 0.00346309 0.00342907\n",
      " 0.00338565 0.00332417 0.0033133  0.00329895 0.00326287 0.00317417\n",
      " 0.00313866 0.00313186 0.00311064 0.00308252 0.00301724 0.002955\n",
      " 0.0029399  0.00290373 0.00285218 0.00283199 0.0027945  0.00276339\n",
      " 0.00272654 0.0026845  0.00266964 0.00260588 0.00255904 0.00249478\n",
      " 0.00248162 0.00244154 0.0024108  0.00237316 0.00230246 0.00228643]\n"
     ]
    }
   ],
   "source": [
    "#Explained variation per component\n",
    "print(pca.explained_variance_ratio_)"
   ]
  },
  {
   "cell_type": "code",
   "execution_count": 12,
   "metadata": {},
   "outputs": [
    {
     "data": {
      "text/plain": [
       "array([0.10201961, 0.17824972, 0.22196164, 0.25078336, 0.27435468,\n",
       "       0.29337098, 0.3114795 , 0.32803542, 0.34360658, 0.35892855,\n",
       "       0.37212819, 0.38425608, 0.39583545, 0.40739525, 0.41849531,\n",
       "       0.42854114, 0.43797337, 0.44729659, 0.45610074, 0.46479094,\n",
       "       0.473192  , 0.4814523 , 0.48941402, 0.49724175, 0.50477951,\n",
       "       0.51201602, 0.51912674, 0.52606721, 0.53286084, 0.53931799,\n",
       "       0.5457144 , 0.55203179, 0.55824963, 0.5644273 , 0.57035526,\n",
       "       0.57612972, 0.58181491, 0.5874449 , 0.5930615 , 0.59861694,\n",
       "       0.60411016, 0.60954055, 0.61485604, 0.62013568, 0.62535315,\n",
       "       0.6305137 , 0.63562271, 0.64064218, 0.64562683, 0.65058091,\n",
       "       0.6554917 , 0.66033403, 0.66515512, 0.66990504, 0.6746248 ,\n",
       "       0.67926249, 0.68388578, 0.6884726 , 0.69298402, 0.69747156,\n",
       "       0.70194155, 0.70632823, 0.71070355, 0.71503679, 0.71932753,\n",
       "       0.72358449, 0.72781921, 0.73202231, 0.73616868, 0.74028678,\n",
       "       0.74436322, 0.74842109, 0.75245618, 0.75643376, 0.76036727,\n",
       "       0.76429754, 0.76819611, 0.77203112, 0.77582491, 0.77959661,\n",
       "       0.78332657, 0.78703903, 0.79071588, 0.79437224, 0.79798304,\n",
       "       0.80157577, 0.80508931, 0.80856544, 0.81202853, 0.8154576 ,\n",
       "       0.81884326, 0.82216743, 0.82548073, 0.82877967, 0.83204254,\n",
       "       0.83521671, 0.83835538, 0.84148723, 0.84459788, 0.8476804 ,\n",
       "       0.85069764, 0.85365264, 0.85659255, 0.85949628, 0.86234846,\n",
       "       0.86518045, 0.86797495, 0.87073834, 0.87346488, 0.87614938,\n",
       "       0.87881901, 0.88142489, 0.88398393, 0.88647871, 0.88896033,\n",
       "       0.89140187, 0.89381267, 0.89618583, 0.8984883 , 0.90077473])"
      ]
     },
     "execution_count": 12,
     "metadata": {},
     "output_type": "execute_result"
    }
   ],
   "source": [
    "#Cumulative variance explained \n",
    "np.cumsum(pca.explained_variance_ratio_)"
   ]
  },
  {
   "cell_type": "markdown",
   "metadata": {},
   "source": [
    "### Barplot of Components"
   ]
  },
  {
   "cell_type": "code",
   "execution_count": 13,
   "metadata": {},
   "outputs": [
    {
     "data": {
      "image/png": "[encoded data removed]",
      "text/plain": [
       "<Figure size 432x288 with 1 Axes>"
      ]
     },
     "metadata": {
      "needs_background": "light"
     },
     "output_type": "display_data"
    }
   ],
   "source": [
    "pca_df = pd.DataFrame({'var':pca.explained_variance_ratio_,\n",
    "                      'PC': ['PC1', 'PC2', 'PC3', 'PC4', 'PC5', 'PC6','PC7', 'PC8', 'PC9', \n",
    "                             'PC10', 'PC11', 'PC12', 'PC13', 'PC14', 'PC15','PC16', 'PC17',\n",
    "                            'PC18', 'PC19', 'PC20', 'PC21', 'PC22', 'PC23', 'PC24', 'PC25', \n",
    "                            'PC26', 'PC27', 'PC28', 'PC29', 'PC30', 'PC31', 'PC32', 'PC33',\n",
    "                            'PC34', 'PC35', 'PC36', 'PC37', 'PC38', 'PC39','PC40', 'PC41', \n",
    "                             'PC42', 'PC43', 'PC44', 'PC45', 'PC46', 'PC47','PC48', 'PC49',\n",
    "                            'PC50', 'PC51', 'PC52', 'PC53', 'PC54', 'PC55', 'PC56', 'PC57', \n",
    "                            'PC58', 'PC59', 'PC60', 'PC61', 'PC62', 'PC63', 'PC64', 'PC65',\n",
    "                            'PC66', 'PC67', 'PC68', 'PC69', 'PC70', 'PC71', 'PC72', 'PC73', \n",
    "                            'PC74', 'PC75', 'PC76', 'PC77', 'PC78', 'PC79', 'PC80', 'PC81',\n",
    "                            'PC82', 'PC83', 'PC84', 'PC85', 'PC86', 'PC87', 'PC88', 'PC89',\n",
    "                            'PC90', 'PC91', 'PC92', 'PC93', 'PC94', 'PC95', 'PC96', 'PC97', \n",
    "                            'PC98', 'PC99', 'PC100', 'PC101', 'PC102', 'PC103', 'PC104', 'PC105',\n",
    "                            'PC106', 'PC107', 'PC108', 'PC109', 'PC110', 'PC111', 'PC112', 'PC113', \n",
    "                             'PC114', 'PC115', 'PC116', 'PC117', 'PC118','PC119', 'PC120']})\n",
    "sns.barplot(x='PC', y='var',\n",
    "           data=pca_df, color=\"c\")\n",
    "plt.xlabel('Principal Components')\n",
    "plt.ylabel('Variance Explained');"
   ]
  },
  {
   "cell_type": "markdown",
   "metadata": {},
   "source": [
    "### How many components will you use to fit a supervised learning model?"
   ]
  },
  {
   "cell_type": "markdown",
   "metadata": {},
   "source": [
    "After exploring the data, particularly the explained variance per components and the cumulative variance explained, we've decided to only use 16 components to fit a supervised learning model. The first 16 components explain nearly 43% of variability. After component 16, the variance explained by each subsequent component is less than 1%. Therefore, it makes most sense to include the first 16 components to fit the learning model. "
   ]
  },
  {
   "cell_type": "markdown",
   "metadata": {},
   "source": [
    "### 2D Scatterplot of the first two components"
   ]
  },
  {
   "cell_type": "code",
   "execution_count": 15,
   "metadata": {},
   "outputs": [
    {
     "data": {
      "text/html": [
       "<div>\n",
       "<style scoped>\n",
       "    .dataframe tbody tr th:only-of-type {\n",
       "        vertical-align: middle;\n",
       "    }\n",
       "\n",
       "    .dataframe tbody tr th {\n",
       "        vertical-align: top;\n",
       "    }\n",
       "\n",
       "    .dataframe thead th {\n",
       "        text-align: right;\n",
       "    }\n",
       "</style>\n",
       "<table border=\"1\" class=\"dataframe\">\n",
       "  <thead>\n",
       "    <tr style=\"text-align: right;\">\n",
       "      <th></th>\n",
       "      <th>0</th>\n",
       "      <th>1</th>\n",
       "      <th>2</th>\n",
       "      <th>3</th>\n",
       "      <th>4</th>\n",
       "      <th>5</th>\n",
       "      <th>6</th>\n",
       "      <th>7</th>\n",
       "      <th>8</th>\n",
       "      <th>9</th>\n",
       "      <th>...</th>\n",
       "      <th>112</th>\n",
       "      <th>113</th>\n",
       "      <th>114</th>\n",
       "      <th>115</th>\n",
       "      <th>116</th>\n",
       "      <th>117</th>\n",
       "      <th>118</th>\n",
       "      <th>119</th>\n",
       "      <th>HSD010</th>\n",
       "      <th>HSD010_binary</th>\n",
       "    </tr>\n",
       "  </thead>\n",
       "  <tbody>\n",
       "    <tr>\n",
       "      <td>0</td>\n",
       "      <td>9.527811</td>\n",
       "      <td>-0.816224</td>\n",
       "      <td>-1.867092</td>\n",
       "      <td>-2.109904</td>\n",
       "      <td>-3.929392</td>\n",
       "      <td>-0.185322</td>\n",
       "      <td>-3.845008</td>\n",
       "      <td>-2.934907</td>\n",
       "      <td>1.514192</td>\n",
       "      <td>0.682710</td>\n",
       "      <td>...</td>\n",
       "      <td>-0.508868</td>\n",
       "      <td>-1.656465</td>\n",
       "      <td>-0.061599</td>\n",
       "      <td>-0.631919</td>\n",
       "      <td>-0.045985</td>\n",
       "      <td>0.450118</td>\n",
       "      <td>0.841411</td>\n",
       "      <td>0.044607</td>\n",
       "      <td>1</td>\n",
       "      <td>good</td>\n",
       "    </tr>\n",
       "    <tr>\n",
       "      <td>1</td>\n",
       "      <td>-5.838339</td>\n",
       "      <td>-3.692573</td>\n",
       "      <td>3.805750</td>\n",
       "      <td>-1.029714</td>\n",
       "      <td>0.394587</td>\n",
       "      <td>1.593165</td>\n",
       "      <td>2.711015</td>\n",
       "      <td>-0.740537</td>\n",
       "      <td>0.384199</td>\n",
       "      <td>-2.405975</td>\n",
       "      <td>...</td>\n",
       "      <td>-0.975645</td>\n",
       "      <td>1.616000</td>\n",
       "      <td>-0.122667</td>\n",
       "      <td>-1.198856</td>\n",
       "      <td>0.549672</td>\n",
       "      <td>-1.508354</td>\n",
       "      <td>1.040011</td>\n",
       "      <td>-0.462103</td>\n",
       "      <td>1</td>\n",
       "      <td>good</td>\n",
       "    </tr>\n",
       "    <tr>\n",
       "      <td>2</td>\n",
       "      <td>-0.719454</td>\n",
       "      <td>-2.573200</td>\n",
       "      <td>0.907902</td>\n",
       "      <td>-4.755837</td>\n",
       "      <td>-1.798850</td>\n",
       "      <td>0.863669</td>\n",
       "      <td>-1.024265</td>\n",
       "      <td>0.632999</td>\n",
       "      <td>0.542108</td>\n",
       "      <td>0.449373</td>\n",
       "      <td>...</td>\n",
       "      <td>-0.133850</td>\n",
       "      <td>-0.002053</td>\n",
       "      <td>0.196784</td>\n",
       "      <td>-0.406066</td>\n",
       "      <td>-0.527959</td>\n",
       "      <td>-0.379611</td>\n",
       "      <td>0.282386</td>\n",
       "      <td>0.528596</td>\n",
       "      <td>2</td>\n",
       "      <td>good</td>\n",
       "    </tr>\n",
       "    <tr>\n",
       "      <td>3</td>\n",
       "      <td>3.533627</td>\n",
       "      <td>-2.576983</td>\n",
       "      <td>-3.249123</td>\n",
       "      <td>-0.405467</td>\n",
       "      <td>3.999019</td>\n",
       "      <td>1.444425</td>\n",
       "      <td>-1.182104</td>\n",
       "      <td>0.326660</td>\n",
       "      <td>-4.151148</td>\n",
       "      <td>-1.245296</td>\n",
       "      <td>...</td>\n",
       "      <td>0.200718</td>\n",
       "      <td>1.171887</td>\n",
       "      <td>-0.049710</td>\n",
       "      <td>-0.853843</td>\n",
       "      <td>0.242687</td>\n",
       "      <td>-1.511036</td>\n",
       "      <td>0.016704</td>\n",
       "      <td>0.270033</td>\n",
       "      <td>2</td>\n",
       "      <td>good</td>\n",
       "    </tr>\n",
       "    <tr>\n",
       "      <td>4</td>\n",
       "      <td>-6.872094</td>\n",
       "      <td>-4.194241</td>\n",
       "      <td>0.886831</td>\n",
       "      <td>-0.848979</td>\n",
       "      <td>-0.524862</td>\n",
       "      <td>0.073055</td>\n",
       "      <td>0.843819</td>\n",
       "      <td>0.987702</td>\n",
       "      <td>0.557231</td>\n",
       "      <td>-0.045088</td>\n",
       "      <td>...</td>\n",
       "      <td>-0.271024</td>\n",
       "      <td>0.287922</td>\n",
       "      <td>0.487166</td>\n",
       "      <td>-0.679237</td>\n",
       "      <td>-0.055682</td>\n",
       "      <td>-0.128661</td>\n",
       "      <td>0.275865</td>\n",
       "      <td>-0.157957</td>\n",
       "      <td>3</td>\n",
       "      <td>good</td>\n",
       "    </tr>\n",
       "    <tr>\n",
       "      <td>...</td>\n",
       "      <td>...</td>\n",
       "      <td>...</td>\n",
       "      <td>...</td>\n",
       "      <td>...</td>\n",
       "      <td>...</td>\n",
       "      <td>...</td>\n",
       "      <td>...</td>\n",
       "      <td>...</td>\n",
       "      <td>...</td>\n",
       "      <td>...</td>\n",
       "      <td>...</td>\n",
       "      <td>...</td>\n",
       "      <td>...</td>\n",
       "      <td>...</td>\n",
       "      <td>...</td>\n",
       "      <td>...</td>\n",
       "      <td>...</td>\n",
       "      <td>...</td>\n",
       "      <td>...</td>\n",
       "      <td>...</td>\n",
       "      <td>...</td>\n",
       "    </tr>\n",
       "    <tr>\n",
       "      <td>2059</td>\n",
       "      <td>2.643319</td>\n",
       "      <td>-1.689356</td>\n",
       "      <td>-0.702594</td>\n",
       "      <td>-0.538264</td>\n",
       "      <td>-1.021644</td>\n",
       "      <td>-0.677041</td>\n",
       "      <td>0.473136</td>\n",
       "      <td>-0.288996</td>\n",
       "      <td>0.959167</td>\n",
       "      <td>-1.238274</td>\n",
       "      <td>...</td>\n",
       "      <td>0.237526</td>\n",
       "      <td>-0.857682</td>\n",
       "      <td>-1.235884</td>\n",
       "      <td>-0.295727</td>\n",
       "      <td>0.198620</td>\n",
       "      <td>0.947733</td>\n",
       "      <td>-0.201223</td>\n",
       "      <td>-0.210739</td>\n",
       "      <td>3</td>\n",
       "      <td>good</td>\n",
       "    </tr>\n",
       "    <tr>\n",
       "      <td>2060</td>\n",
       "      <td>1.037906</td>\n",
       "      <td>-0.118065</td>\n",
       "      <td>5.556447</td>\n",
       "      <td>1.630077</td>\n",
       "      <td>0.967743</td>\n",
       "      <td>1.146624</td>\n",
       "      <td>1.949585</td>\n",
       "      <td>0.929127</td>\n",
       "      <td>-1.286789</td>\n",
       "      <td>-2.011601</td>\n",
       "      <td>...</td>\n",
       "      <td>0.449134</td>\n",
       "      <td>0.683506</td>\n",
       "      <td>0.071085</td>\n",
       "      <td>0.170554</td>\n",
       "      <td>-0.352884</td>\n",
       "      <td>0.128680</td>\n",
       "      <td>-0.664654</td>\n",
       "      <td>0.387039</td>\n",
       "      <td>2</td>\n",
       "      <td>good</td>\n",
       "    </tr>\n",
       "    <tr>\n",
       "      <td>2061</td>\n",
       "      <td>1.130253</td>\n",
       "      <td>-0.970432</td>\n",
       "      <td>3.415387</td>\n",
       "      <td>1.206777</td>\n",
       "      <td>-3.631833</td>\n",
       "      <td>1.118370</td>\n",
       "      <td>1.361733</td>\n",
       "      <td>1.827746</td>\n",
       "      <td>-2.339055</td>\n",
       "      <td>0.232350</td>\n",
       "      <td>...</td>\n",
       "      <td>0.585130</td>\n",
       "      <td>0.356877</td>\n",
       "      <td>-0.168189</td>\n",
       "      <td>0.661794</td>\n",
       "      <td>0.160339</td>\n",
       "      <td>-0.470375</td>\n",
       "      <td>0.401858</td>\n",
       "      <td>-0.404210</td>\n",
       "      <td>4</td>\n",
       "      <td>poor</td>\n",
       "    </tr>\n",
       "    <tr>\n",
       "      <td>2062</td>\n",
       "      <td>7.145092</td>\n",
       "      <td>-0.376753</td>\n",
       "      <td>1.753505</td>\n",
       "      <td>-0.939056</td>\n",
       "      <td>-4.665499</td>\n",
       "      <td>3.844265</td>\n",
       "      <td>-1.355272</td>\n",
       "      <td>2.587607</td>\n",
       "      <td>-0.290033</td>\n",
       "      <td>0.612683</td>\n",
       "      <td>...</td>\n",
       "      <td>-0.289213</td>\n",
       "      <td>0.605023</td>\n",
       "      <td>-0.797033</td>\n",
       "      <td>-0.977080</td>\n",
       "      <td>-1.039119</td>\n",
       "      <td>0.781314</td>\n",
       "      <td>0.461111</td>\n",
       "      <td>0.670603</td>\n",
       "      <td>1</td>\n",
       "      <td>good</td>\n",
       "    </tr>\n",
       "    <tr>\n",
       "      <td>2063</td>\n",
       "      <td>0.050869</td>\n",
       "      <td>-0.967297</td>\n",
       "      <td>-4.447671</td>\n",
       "      <td>-0.503263</td>\n",
       "      <td>4.470236</td>\n",
       "      <td>4.852770</td>\n",
       "      <td>-2.765241</td>\n",
       "      <td>3.354441</td>\n",
       "      <td>-1.704754</td>\n",
       "      <td>-1.960789</td>\n",
       "      <td>...</td>\n",
       "      <td>0.900883</td>\n",
       "      <td>-0.269107</td>\n",
       "      <td>-0.892602</td>\n",
       "      <td>-0.379312</td>\n",
       "      <td>0.316821</td>\n",
       "      <td>-0.183745</td>\n",
       "      <td>-0.589106</td>\n",
       "      <td>1.045981</td>\n",
       "      <td>2</td>\n",
       "      <td>good</td>\n",
       "    </tr>\n",
       "  </tbody>\n",
       "</table>\n",
       "<p>2064 rows × 122 columns</p>\n",
       "</div>"
      ],
      "text/plain": [
       "             0         1         2         3         4         5         6  \\\n",
       "0     9.527811 -0.816224 -1.867092 -2.109904 -3.929392 -0.185322 -3.845008   \n",
       "1    -5.838339 -3.692573  3.805750 -1.029714  0.394587  1.593165  2.711015   \n",
       "2    -0.719454 -2.573200  0.907902 -4.755837 -1.798850  0.863669 -1.024265   \n",
       "3     3.533627 -2.576983 -3.249123 -0.405467  3.999019  1.444425 -1.182104   \n",
       "4    -6.872094 -4.194241  0.886831 -0.848979 -0.524862  0.073055  0.843819   \n",
       "...        ...       ...       ...       ...       ...       ...       ...   \n",
       "2059  2.643319 -1.689356 -0.702594 -0.538264 -1.021644 -0.677041  0.473136   \n",
       "2060  1.037906 -0.118065  5.556447  1.630077  0.967743  1.146624  1.949585   \n",
       "2061  1.130253 -0.970432  3.415387  1.206777 -3.631833  1.118370  1.361733   \n",
       "2062  7.145092 -0.376753  1.753505 -0.939056 -4.665499  3.844265 -1.355272   \n",
       "2063  0.050869 -0.967297 -4.447671 -0.503263  4.470236  4.852770 -2.765241   \n",
       "\n",
       "             7         8         9  ...       112       113       114  \\\n",
       "0    -2.934907  1.514192  0.682710  ... -0.508868 -1.656465 -0.061599   \n",
       "1    -0.740537  0.384199 -2.405975  ... -0.975645  1.616000 -0.122667   \n",
       "2     0.632999  0.542108  0.449373  ... -0.133850 -0.002053  0.196784   \n",
       "3     0.326660 -4.151148 -1.245296  ...  0.200718  1.171887 -0.049710   \n",
       "4     0.987702  0.557231 -0.045088  ... -0.271024  0.287922  0.487166   \n",
       "...        ...       ...       ...  ...       ...       ...       ...   \n",
       "2059 -0.288996  0.959167 -1.238274  ...  0.237526 -0.857682 -1.235884   \n",
       "2060  0.929127 -1.286789 -2.011601  ...  0.449134  0.683506  0.071085   \n",
       "2061  1.827746 -2.339055  0.232350  ...  0.585130  0.356877 -0.168189   \n",
       "2062  2.587607 -0.290033  0.612683  ... -0.289213  0.605023 -0.797033   \n",
       "2063  3.354441 -1.704754 -1.960789  ...  0.900883 -0.269107 -0.892602   \n",
       "\n",
       "           115       116       117       118       119  HSD010  HSD010_binary  \n",
       "0    -0.631919 -0.045985  0.450118  0.841411  0.044607       1           good  \n",
       "1    -1.198856  0.549672 -1.508354  1.040011 -0.462103       1           good  \n",
       "2    -0.406066 -0.527959 -0.379611  0.282386  0.528596       2           good  \n",
       "3    -0.853843  0.242687 -1.511036  0.016704  0.270033       2           good  \n",
       "4    -0.679237 -0.055682 -0.128661  0.275865 -0.157957       3           good  \n",
       "...        ...       ...       ...       ...       ...     ...            ...  \n",
       "2059 -0.295727  0.198620  0.947733 -0.201223 -0.210739       3           good  \n",
       "2060  0.170554 -0.352884  0.128680 -0.664654  0.387039       2           good  \n",
       "2061  0.661794  0.160339 -0.470375  0.401858 -0.404210       4           poor  \n",
       "2062 -0.977080 -1.039119  0.781314  0.461111  0.670603       1           good  \n",
       "2063 -0.379312  0.316821 -0.183745 -0.589106  1.045981       2           good  \n",
       "\n",
       "[2064 rows x 122 columns]"
      ]
     },
     "execution_count": 15,
     "metadata": {},
     "output_type": "execute_result"
    }
   ],
   "source": [
    "pc_df = pd.DataFrame(data = principalcomponents_nhanes)\n",
    "pc_df\n",
    "\n",
    "plot_df = pd.concat([pc_df, hsd010], axis = 1)\n",
    "\n",
    "#Recode to make hsd010 binary\n",
    "plot_df['HSD010_binary'] = hsd010_binary = plot_df['HSD010'].replace(\n",
    "    [1, 2, 3, 4, 5], ['good', 'good', 'good', 'poor', 'poor'])\n",
    "plot_df"
   ]
  },
  {
   "cell_type": "code",
   "execution_count": 20,
   "metadata": {},
   "outputs": [
    {
     "data": {
      "image/png": "[encoded data removed]",
      "text/plain": [
       "<Figure size 432x288 with 1 Axes>"
      ]
     },
     "metadata": {
      "needs_background": "light"
     },
     "output_type": "display_data"
    }
   ],
   "source": [
    "ax = sns.scatterplot(x = plot_df[0], y = plot_df[1], hue = 'HSD010_binary', data = plot_df)\n",
    "ax.set(xlabel = \"Principal Component 1\",\n",
    "      ylabel = \"Principal Component 2\")\n",
    "ax.set_title(\"First Two Principal Components of National Health and Nutrition Examination Data\")\n",
    "plt.show()"
   ]
  },
  {
   "cell_type": "markdown",
   "metadata": {},
   "source": [
    "## K-Means"
   ]
  },
  {
   "cell_type": "markdown",
   "metadata": {},
   "source": [
    "- Choose a clustering algorithm and explain it in 1-2 sentences.\n",
    "- Cluster the nhanes data. Detail any choice you need to make with regards to number of clusters, and how you arrived at that choice. For instance, you might use the [elbow method](https://en.wikipedia.org/wiki/Elbow_method_(clustering) if you choose k-means.\n",
    "- Plot your clusters on top of BMI v. Income Poverty Ratio Plot. Describe what you see in 1-2 sentences.\n",
    "- Retrain the clustering algorithm, but this time use your PCA results instead of the original dataframe. Plot the clusters on top of the 2D PCA scatterplot from the previous step. Describe your results in 1-2 sentences."
   ]
  },
  {
   "cell_type": "markdown",
   "metadata": {},
   "source": [
    "### Choose a Clustering Algorithm"
   ]
  },
  {
   "cell_type": "markdown",
   "metadata": {},
   "source": [
    "## Your Answer Here"
   ]
  },
  {
   "cell_type": "markdown",
   "metadata": {},
   "source": [
    "### Cluster nhanes"
   ]
  },
  {
   "cell_type": "code",
   "execution_count": null,
   "metadata": {},
   "outputs": [],
   "source": [
    "## Your Answer Here"
   ]
  },
  {
   "cell_type": "markdown",
   "metadata": {},
   "source": [
    "### Plot your clusters on top of the BMI v. Income Poverty Ratio Plot"
   ]
  },
  {
   "cell_type": "code",
   "execution_count": null,
   "metadata": {},
   "outputs": [],
   "source": [
    "## Your Answer Here"
   ]
  },
  {
   "cell_type": "markdown",
   "metadata": {},
   "source": [
    "## Your Answer Here"
   ]
  },
  {
   "cell_type": "markdown",
   "metadata": {},
   "source": [
    "### Retrain the clustering algorithm on PCA components and plot clusters on your 2D scatter"
   ]
  },
  {
   "cell_type": "code",
   "execution_count": null,
   "metadata": {},
   "outputs": [],
   "source": [
    "## Your Answer Here"
   ]
  },
  {
   "cell_type": "markdown",
   "metadata": {},
   "source": [
    "## Your Answer Here"
   ]
  },
  {
   "cell_type": "markdown",
   "metadata": {},
   "source": [
    "## Neural Network"
   ]
  },
  {
   "cell_type": "markdown",
   "metadata": {},
   "source": [
    "Now we are ready to predict! Do the following:\n",
    "\n",
    "- Choose either HSD010 or HSD010\\_binary as your target outcome.  \n",
    "- Train a neural network using the original features. Much of the code to train a basic neural net has been set up for you, but you will need to fill in a couple of missing pieces.\n",
    "- Train a neural network using only your PCA components as features.\n",
    "- Train a neural network using your PCA components and the predicted class membership from your clustering algorithm as features.\n",
    "- Compare and contrast how well each algorithm did. Which featurization technique would you pick and why?"
   ]
  },
  {
   "cell_type": "markdown",
   "metadata": {},
   "source": [
    "Below we provide a template for training a neural network. Use this template for training on the original features, on the PCA components, and the PCA components + the predicted classes from your clusters."
   ]
  },
  {
   "cell_type": "markdown",
   "metadata": {},
   "source": [
    "### Neural Network on Original Features"
   ]
  },
  {
   "cell_type": "code",
   "execution_count": null,
   "metadata": {},
   "outputs": [],
   "source": [
    "y = ... # either hsd010 or hsd010_binary\n",
    "X = ... # drop out any columns that aren't features\n",
    "\n",
    "X_train, X_test, y_train, y_test = train_test_split(X, y, test_size = .25, random_state = 10)"
   ]
  },
  {
   "cell_type": "code",
   "execution_count": null,
   "metadata": {},
   "outputs": [],
   "source": [
    "import keras\n",
    "num_classes = ...\n",
    "# convert class vectors to binary class matrices\n",
    "y_train = keras.utils.to_categorical(..., ...)\n",
    "y_test = keras.utils.to_categorical(..., ...)\n",
    "num_classes = y_test.shape[1]"
   ]
  },
  {
   "cell_type": "code",
   "execution_count": null,
   "metadata": {},
   "outputs": [],
   "source": [
    "model = Sequential()\n",
    "\n",
    "model.add(\n",
    "    Dense(..., input_dim= ..., kernel_initializer= ..., activation= ...)\n",
    ")\n",
    "\n",
    "model.add(\n",
    "    Dense(..., kernel_initializer= ..., activation= ...)\n",
    ")\n",
    "\n",
    "## Add any additional layers you wish here\n",
    "\n",
    "model.compile(loss= ..., optimizer= ..., metrics=[...])\n",
    "\n",
    "model.fit(..., ..., validation_data=(..., ...), epochs=..., batch_size=..., verbose=...)"
   ]
  },
  {
   "cell_type": "markdown",
   "metadata": {},
   "source": [
    "### Neural Network on Principal Components"
   ]
  },
  {
   "cell_type": "code",
   "execution_count": null,
   "metadata": {},
   "outputs": [],
   "source": [
    "## Your Answer Here"
   ]
  },
  {
   "cell_type": "markdown",
   "metadata": {},
   "source": [
    "### Neural Network on Principal Components + Cluster Membership"
   ]
  },
  {
   "cell_type": "code",
   "execution_count": null,
   "metadata": {},
   "outputs": [],
   "source": [
    "## Your Answer Here"
   ]
  },
  {
   "cell_type": "markdown",
   "metadata": {},
   "source": [
    "## Discussion Questions"
   ]
  },
  {
   "cell_type": "markdown",
   "metadata": {},
   "source": [
    "1. In your own words, what is the difference between PCA and clustering?"
   ]
  },
  {
   "cell_type": "markdown",
   "metadata": {},
   "source": [
    "## Your Answer Here"
   ]
  },
  {
   "cell_type": "markdown",
   "metadata": {},
   "source": [
    "2. Did you notice any advantages to combining PCA and clustering? If so, what do you think they were? If not, why do you think you didn't see any gains from this combination?"
   ]
  },
  {
   "cell_type": "markdown",
   "metadata": {},
   "source": [
    "## Your Answer Here"
   ]
  },
  {
   "cell_type": "markdown",
   "metadata": {},
   "source": [
    "3. How can unsupervised techniques help with downstream supervised learning tasks when working with \"big data?\""
   ]
  },
  {
   "cell_type": "code",
   "execution_count": null,
   "metadata": {},
   "outputs": [],
   "source": [
    "## Your Answer Here"
   ]
  }
 ],
 "metadata": {
  "kernelspec": {
   "display_name": "Python 3",
   "language": "python",
   "name": "python3"
  },
  "language_info": {
   "codemirror_mode": {
    "name": "ipython",
    "version": 3
   },
   "file_extension": ".py",
   "mimetype": "text/x-python",
   "name": "python",
   "nbconvert_exporter": "python",
   "pygments_lexer": "ipython3",
   "version": "3.7.4"
  }
 },
 "nbformat": 4,
 "nbformat_minor": 4
}
